{
 "cells": [
  {
   "cell_type": "code",
   "execution_count": null,
   "id": "7772010b",
   "metadata": {},
   "outputs": [],
   "source": []
  },
  {
   "cell_type": "code",
   "execution_count": 1,
   "id": "814d0d66",
   "metadata": {},
   "outputs": [],
   "source": [
    "import pandas as pd\n",
    "import numpy as np\n",
    "from sklearn.datasets import load_iris\n",
    "from sklearn.model_selection import train_test_split\n",
    "from sklearn.linear_model import LogisticRegression\n",
    "from sklearn.metrics import confusion_matrix\n",
    "from sklearn import svm\n",
    "from sklearn.neural_network import MLPClassifier\n",
    "from sklearn.neighbors import KNeighborsClassifier"
   ]
  },
  {
   "cell_type": "markdown",
   "id": "d097307a",
   "metadata": {},
   "source": [
    "# Part 1: Load the dataset\n"
   ]
  },
  {
   "cell_type": "code",
   "execution_count": 2,
   "id": "68b13c5c",
   "metadata": {},
   "outputs": [
    {
     "data": {
      "text/html": [
       "<div>\n",
       "<style scoped>\n",
       "    .dataframe tbody tr th:only-of-type {\n",
       "        vertical-align: middle;\n",
       "    }\n",
       "\n",
       "    .dataframe tbody tr th {\n",
       "        vertical-align: top;\n",
       "    }\n",
       "\n",
       "    .dataframe thead th {\n",
       "        text-align: right;\n",
       "    }\n",
       "</style>\n",
       "<table border=\"1\" class=\"dataframe\">\n",
       "  <thead>\n",
       "    <tr style=\"text-align: right;\">\n",
       "      <th></th>\n",
       "      <th>sepal length (cm)</th>\n",
       "      <th>sepal width (cm)</th>\n",
       "      <th>petal length (cm)</th>\n",
       "      <th>petal width (cm)</th>\n",
       "      <th>target</th>\n",
       "    </tr>\n",
       "  </thead>\n",
       "  <tbody>\n",
       "    <tr>\n",
       "      <th>0</th>\n",
       "      <td>5.1</td>\n",
       "      <td>3.5</td>\n",
       "      <td>1.4</td>\n",
       "      <td>0.2</td>\n",
       "      <td>0</td>\n",
       "    </tr>\n",
       "    <tr>\n",
       "      <th>1</th>\n",
       "      <td>4.9</td>\n",
       "      <td>3.0</td>\n",
       "      <td>1.4</td>\n",
       "      <td>0.2</td>\n",
       "      <td>0</td>\n",
       "    </tr>\n",
       "    <tr>\n",
       "      <th>2</th>\n",
       "      <td>4.7</td>\n",
       "      <td>3.2</td>\n",
       "      <td>1.3</td>\n",
       "      <td>0.2</td>\n",
       "      <td>0</td>\n",
       "    </tr>\n",
       "    <tr>\n",
       "      <th>3</th>\n",
       "      <td>4.6</td>\n",
       "      <td>3.1</td>\n",
       "      <td>1.5</td>\n",
       "      <td>0.2</td>\n",
       "      <td>0</td>\n",
       "    </tr>\n",
       "    <tr>\n",
       "      <th>4</th>\n",
       "      <td>5.0</td>\n",
       "      <td>3.6</td>\n",
       "      <td>1.4</td>\n",
       "      <td>0.2</td>\n",
       "      <td>0</td>\n",
       "    </tr>\n",
       "    <tr>\n",
       "      <th>5</th>\n",
       "      <td>5.4</td>\n",
       "      <td>3.9</td>\n",
       "      <td>1.7</td>\n",
       "      <td>0.4</td>\n",
       "      <td>0</td>\n",
       "    </tr>\n",
       "    <tr>\n",
       "      <th>6</th>\n",
       "      <td>4.6</td>\n",
       "      <td>3.4</td>\n",
       "      <td>1.4</td>\n",
       "      <td>0.3</td>\n",
       "      <td>0</td>\n",
       "    </tr>\n",
       "    <tr>\n",
       "      <th>7</th>\n",
       "      <td>5.0</td>\n",
       "      <td>3.4</td>\n",
       "      <td>1.5</td>\n",
       "      <td>0.2</td>\n",
       "      <td>0</td>\n",
       "    </tr>\n",
       "    <tr>\n",
       "      <th>8</th>\n",
       "      <td>4.4</td>\n",
       "      <td>2.9</td>\n",
       "      <td>1.4</td>\n",
       "      <td>0.2</td>\n",
       "      <td>0</td>\n",
       "    </tr>\n",
       "    <tr>\n",
       "      <th>9</th>\n",
       "      <td>4.9</td>\n",
       "      <td>3.1</td>\n",
       "      <td>1.5</td>\n",
       "      <td>0.1</td>\n",
       "      <td>0</td>\n",
       "    </tr>\n",
       "    <tr>\n",
       "      <th>10</th>\n",
       "      <td>5.4</td>\n",
       "      <td>3.7</td>\n",
       "      <td>1.5</td>\n",
       "      <td>0.2</td>\n",
       "      <td>0</td>\n",
       "    </tr>\n",
       "    <tr>\n",
       "      <th>11</th>\n",
       "      <td>4.8</td>\n",
       "      <td>3.4</td>\n",
       "      <td>1.6</td>\n",
       "      <td>0.2</td>\n",
       "      <td>0</td>\n",
       "    </tr>\n",
       "    <tr>\n",
       "      <th>12</th>\n",
       "      <td>4.8</td>\n",
       "      <td>3.0</td>\n",
       "      <td>1.4</td>\n",
       "      <td>0.1</td>\n",
       "      <td>0</td>\n",
       "    </tr>\n",
       "    <tr>\n",
       "      <th>13</th>\n",
       "      <td>4.3</td>\n",
       "      <td>3.0</td>\n",
       "      <td>1.1</td>\n",
       "      <td>0.1</td>\n",
       "      <td>0</td>\n",
       "    </tr>\n",
       "    <tr>\n",
       "      <th>14</th>\n",
       "      <td>5.8</td>\n",
       "      <td>4.0</td>\n",
       "      <td>1.2</td>\n",
       "      <td>0.2</td>\n",
       "      <td>0</td>\n",
       "    </tr>\n",
       "  </tbody>\n",
       "</table>\n",
       "</div>"
      ],
      "text/plain": [
       "    sepal length (cm)  sepal width (cm)  petal length (cm)  petal width (cm)  \\\n",
       "0                 5.1               3.5                1.4               0.2   \n",
       "1                 4.9               3.0                1.4               0.2   \n",
       "2                 4.7               3.2                1.3               0.2   \n",
       "3                 4.6               3.1                1.5               0.2   \n",
       "4                 5.0               3.6                1.4               0.2   \n",
       "5                 5.4               3.9                1.7               0.4   \n",
       "6                 4.6               3.4                1.4               0.3   \n",
       "7                 5.0               3.4                1.5               0.2   \n",
       "8                 4.4               2.9                1.4               0.2   \n",
       "9                 4.9               3.1                1.5               0.1   \n",
       "10                5.4               3.7                1.5               0.2   \n",
       "11                4.8               3.4                1.6               0.2   \n",
       "12                4.8               3.0                1.4               0.1   \n",
       "13                4.3               3.0                1.1               0.1   \n",
       "14                5.8               4.0                1.2               0.2   \n",
       "\n",
       "    target  \n",
       "0        0  \n",
       "1        0  \n",
       "2        0  \n",
       "3        0  \n",
       "4        0  \n",
       "5        0  \n",
       "6        0  \n",
       "7        0  \n",
       "8        0  \n",
       "9        0  \n",
       "10       0  \n",
       "11       0  \n",
       "12       0  \n",
       "13       0  \n",
       "14       0  "
      ]
     },
     "execution_count": 2,
     "metadata": {},
     "output_type": "execute_result"
    }
   ],
   "source": [
    "# Load the dataset \n",
    "iris = load_iris()\n",
    "iris_df = pd.DataFrame(iris['data'], columns = iris.feature_names) \n",
    "iris_df[\"target\"] = iris.target \n",
    "iris_df.head(15)# Output the first 15 rows of the data\n"
   ]
  },
  {
   "cell_type": "code",
   "execution_count": 3,
   "id": "f0c302aa",
   "metadata": {},
   "outputs": [
    {
     "name": "stdout",
     "output_type": "stream",
     "text": [
      "<class 'pandas.core.frame.DataFrame'>\n",
      "RangeIndex: 150 entries, 0 to 149\n",
      "Data columns (total 5 columns):\n",
      " #   Column             Non-Null Count  Dtype  \n",
      "---  ------             --------------  -----  \n",
      " 0   sepal length (cm)  150 non-null    float64\n",
      " 1   sepal width (cm)   150 non-null    float64\n",
      " 2   petal length (cm)  150 non-null    float64\n",
      " 3   petal width (cm)   150 non-null    float64\n",
      " 4   target             150 non-null    int32  \n",
      "dtypes: float64(4), int32(1)\n",
      "memory usage: 5.4 KB\n"
     ]
    },
    {
     "data": {
      "text/html": [
       "<div>\n",
       "<style scoped>\n",
       "    .dataframe tbody tr th:only-of-type {\n",
       "        vertical-align: middle;\n",
       "    }\n",
       "\n",
       "    .dataframe tbody tr th {\n",
       "        vertical-align: top;\n",
       "    }\n",
       "\n",
       "    .dataframe thead th {\n",
       "        text-align: right;\n",
       "    }\n",
       "</style>\n",
       "<table border=\"1\" class=\"dataframe\">\n",
       "  <thead>\n",
       "    <tr style=\"text-align: right;\">\n",
       "      <th></th>\n",
       "      <th>sepal length (cm)</th>\n",
       "      <th>sepal width (cm)</th>\n",
       "      <th>petal length (cm)</th>\n",
       "      <th>petal width (cm)</th>\n",
       "      <th>target</th>\n",
       "    </tr>\n",
       "  </thead>\n",
       "  <tbody>\n",
       "    <tr>\n",
       "      <th>count</th>\n",
       "      <td>150.000000</td>\n",
       "      <td>150.000000</td>\n",
       "      <td>150.000000</td>\n",
       "      <td>150.000000</td>\n",
       "      <td>150.000000</td>\n",
       "    </tr>\n",
       "    <tr>\n",
       "      <th>mean</th>\n",
       "      <td>5.843333</td>\n",
       "      <td>3.057333</td>\n",
       "      <td>3.758000</td>\n",
       "      <td>1.199333</td>\n",
       "      <td>1.000000</td>\n",
       "    </tr>\n",
       "    <tr>\n",
       "      <th>std</th>\n",
       "      <td>0.828066</td>\n",
       "      <td>0.435866</td>\n",
       "      <td>1.765298</td>\n",
       "      <td>0.762238</td>\n",
       "      <td>0.819232</td>\n",
       "    </tr>\n",
       "    <tr>\n",
       "      <th>min</th>\n",
       "      <td>4.300000</td>\n",
       "      <td>2.000000</td>\n",
       "      <td>1.000000</td>\n",
       "      <td>0.100000</td>\n",
       "      <td>0.000000</td>\n",
       "    </tr>\n",
       "    <tr>\n",
       "      <th>25%</th>\n",
       "      <td>5.100000</td>\n",
       "      <td>2.800000</td>\n",
       "      <td>1.600000</td>\n",
       "      <td>0.300000</td>\n",
       "      <td>0.000000</td>\n",
       "    </tr>\n",
       "    <tr>\n",
       "      <th>50%</th>\n",
       "      <td>5.800000</td>\n",
       "      <td>3.000000</td>\n",
       "      <td>4.350000</td>\n",
       "      <td>1.300000</td>\n",
       "      <td>1.000000</td>\n",
       "    </tr>\n",
       "    <tr>\n",
       "      <th>75%</th>\n",
       "      <td>6.400000</td>\n",
       "      <td>3.300000</td>\n",
       "      <td>5.100000</td>\n",
       "      <td>1.800000</td>\n",
       "      <td>2.000000</td>\n",
       "    </tr>\n",
       "    <tr>\n",
       "      <th>max</th>\n",
       "      <td>7.900000</td>\n",
       "      <td>4.400000</td>\n",
       "      <td>6.900000</td>\n",
       "      <td>2.500000</td>\n",
       "      <td>2.000000</td>\n",
       "    </tr>\n",
       "  </tbody>\n",
       "</table>\n",
       "</div>"
      ],
      "text/plain": [
       "       sepal length (cm)  sepal width (cm)  petal length (cm)  \\\n",
       "count         150.000000        150.000000         150.000000   \n",
       "mean            5.843333          3.057333           3.758000   \n",
       "std             0.828066          0.435866           1.765298   \n",
       "min             4.300000          2.000000           1.000000   \n",
       "25%             5.100000          2.800000           1.600000   \n",
       "50%             5.800000          3.000000           4.350000   \n",
       "75%             6.400000          3.300000           5.100000   \n",
       "max             7.900000          4.400000           6.900000   \n",
       "\n",
       "       petal width (cm)      target  \n",
       "count        150.000000  150.000000  \n",
       "mean           1.199333    1.000000  \n",
       "std            0.762238    0.819232  \n",
       "min            0.100000    0.000000  \n",
       "25%            0.300000    0.000000  \n",
       "50%            1.300000    1.000000  \n",
       "75%            1.800000    2.000000  \n",
       "max            2.500000    2.000000  "
      ]
     },
     "execution_count": 3,
     "metadata": {},
     "output_type": "execute_result"
    }
   ],
   "source": [
    "# Display a summary of the table information (number of datapoints, etc.)\n",
    "iris_df.info() \n",
    "iris_df.describe()"
   ]
  },
  {
   "cell_type": "markdown",
   "id": "8a698f89",
   "metadata": {},
   "source": [
    "# About the dataset\n"
   ]
  },
  {
   "cell_type": "markdown",
   "id": "662798fa",
   "metadata": {},
   "source": [
    "  <div> The dataset consists of 150 rows with no null values and 5 columns represent sepal length (cm), sepal width (cm), petal length (cm), petal width (cm), and target.\n",
    "   The 5 columns consist of 4 features and 1 label.\n",
    "   \n",
    "Features\n",
    "    \n",
    "   - sepal length (cm)\n",
    "   - sepal width (cm)\n",
    "   - petal length (cm)\n",
    "   - petal width (cm)\n",
    "   \n",
    "Label\n",
    "    \n",
    "   - target <div>"
   ]
  },
  {
   "cell_type": "markdown",
   "id": "235c28dc",
   "metadata": {},
   "source": [
    "# Part 2: Split the dataset into train and test\n",
    "\n"
   ]
  },
  {
   "cell_type": "code",
   "execution_count": 4,
   "id": "dceff051",
   "metadata": {},
   "outputs": [],
   "source": [
    "# Take the dataset and split it into our features (X) and label (y)\n",
    "X = iris.data\n",
    "y = iris.target\n",
    "# Use sklearn to split the features and labels into a training/test set. (90% train, 10% test)\n",
    "X_train, X_test, y_train, y_test = train_test_split(X, y, train_size=.90, random_state=42)"
   ]
  },
  {
   "cell_type": "markdown",
   "id": "d1b44595",
   "metadata": {},
   "source": [
    "# Part 3: Logistic Regression"
   ]
  },
  {
   "cell_type": "code",
   "execution_count": 5,
   "id": "e31e8d6c",
   "metadata": {},
   "outputs": [
    {
     "name": "stdout",
     "output_type": "stream",
     "text": [
      "predicted class = setosa and confidence = 83.72%\n",
      "predicted class = versicolor and confidence = 94.95%\n",
      "predicted class = virginica and confidence = 99.89%\n",
      "Accuracy of Logistic Regression Classifier on test set: 1.0\n",
      "Confusion Matrix:\n",
      "[[6 0 0]\n",
      " [0 6 0]\n",
      " [0 0 3]]\n",
      "intercept: [  9.50133366   1.91164253 -11.4129762 ] \n",
      "coeff: [[-0.42685097  0.51314447 -0.0862935 ]\n",
      " [ 0.97283315 -0.22362072 -0.74921243]\n",
      " [-2.44463796 -0.21514806  2.65978602]\n",
      " [-1.0318789  -0.85146024  1.88333914]]\n"
     ]
    }
   ],
   "source": [
    "logReg = LogisticRegression()\n",
    "logReg.fit(X_train, y_train)\n",
    "y_prediction = logReg.predict(X_test)\n",
    "y_prediction_prob = logReg.predict_proba(X_test)\n",
    "classes = load_iris().target_names\n",
    "for class_name, proba in zip(classes, y_prediction_prob):\n",
    "    index = np.argmax(proba)\n",
    "    print(f'predicted class = {class_name} and confidence = {proba[index]:.2%}')\n",
    "\n",
    "score = logReg.score(X_test, y_test)\n",
    "print(\"Accuracy of Logistic Regression Classifier on test set:\",score)\n",
    "\n",
    "confusion = confusion_matrix(y_test, y_prediction)\n",
    "print(f'Confusion Matrix:\\n{confusion}')\n",
    "intercept = logReg.intercept_\n",
    "coeff = logReg.coef_.T\n",
    "print(f'intercept: {intercept} \\ncoeff: {coeff}')"
   ]
  },
  {
   "cell_type": "markdown",
   "id": "3d6cf9c8",
   "metadata": {},
   "source": [
    "   Each coefficient relatives to one feature, we have four features input, therefore we get four coefficent numbers in each subset of coeff. The score is 1.0 which means that on the given 10% of the dataset,our logistic regression classifier model predicts the outcome of 100, meaning the number of correct predictions made divided by the total number of datapoints in the test set.  "
   ]
  },
  {
   "cell_type": "markdown",
   "id": "cfa09365",
   "metadata": {},
   "source": [
    "# Part 4: Support Vector Machine"
   ]
  },
  {
   "cell_type": "code",
   "execution_count": 6,
   "id": "d3b75ec3",
   "metadata": {},
   "outputs": [
    {
     "name": "stdout",
     "output_type": "stream",
     "text": [
      "predicted class = setosa and confidence = 91.83%\n",
      "predicted class = versicolor and confidence = 95.01%\n",
      "predicted class = virginica and confidence = 98.26%\n",
      "Accuracy of  Support Vector Classifier on test set : 1.0\n",
      "Confusion Matrix:\n",
      "[[6 0 0]\n",
      " [0 6 0]\n",
      " [0 0 3]]\n"
     ]
    }
   ],
   "source": [
    "svc = svm.SVC(probability=True)\n",
    "svc.fit(X_train, y_train)\n",
    "y_prediction_svc = svc.predict(X_test)\n",
    "y_prediction_prob_svc = svc.predict_proba(X_test)\n",
    "for class_name, proba in zip(classes, y_prediction_prob_svc):\n",
    "    index = np.argmax(proba)\n",
    "    print(f'predicted class = {class_name} and confidence = {proba[index]:.2%}')\n",
    "score = svc.score(X_test, y_test)\n",
    "print(\"Accuracy of  Support Vector Classifier on test set :\",score)\n",
    "confusion = confusion_matrix(y_test, y_prediction_svc)\n",
    "print(f'Confusion Matrix:\\n{confusion}')"
   ]
  },
  {
   "cell_type": "markdown",
   "id": "fc4eaead",
   "metadata": {},
   "source": [
    "Support vector machine model gives us score of 1.0 as same as logistic regression model. In addition, the confusion matrix shows the same outcome as of the logistic regression."
   ]
  },
  {
   "cell_type": "markdown",
   "id": "0c6dab07",
   "metadata": {},
   "source": [
    "# Part 5: Neural Network"
   ]
  },
  {
   "cell_type": "code",
   "execution_count": 34,
   "id": "184883e2",
   "metadata": {},
   "outputs": [
    {
     "name": "stdout",
     "output_type": "stream",
     "text": [
      "predicted class = setosa and confidence = 72.36%\n",
      "predicted class = versicolor and confidence = 96.40%\n",
      "predicted class = virginica and confidence = 96.35%\n",
      "Accuracy of Neural Network on test set : 1.0\n",
      "Modified neural network score: 0.9333333333333333\n"
     ]
    },
    {
     "name": "stderr",
     "output_type": "stream",
     "text": [
      "C:\\Users\\tlhua\\AppData\\Local\\Programs\\Python\\Python310\\lib\\site-packages\\sklearn\\neural_network\\_multilayer_perceptron.py:692: ConvergenceWarning: Stochastic Optimizer: Maximum iterations (200) reached and the optimization hasn't converged yet.\n",
      "  warnings.warn(\n"
     ]
    }
   ],
   "source": [
    "mlp = MLPClassifier()\n",
    "mlp.fit(X_train, y_train)\n",
    "y_prediction_mlp = mlp.predict(X_test)\n",
    "y_prediction_prob_mlp = mlp.predict_proba(X_test)\n",
    "for class_name, proba in zip(classes, y_prediction_prob_mlp):\n",
    "    index = np.argmax(proba)\n",
    "    print(f'predicted class = {class_name} and confidence = {proba[index]:.2%}')\n",
    "score = mlp.score(X_test, y_test)\n",
    "print(\"Accuracy of Neural Network on test set :\",score)\n",
    "new_mlp = MLPClassifier(solver='sgd', learning_rate_init=0.01, hidden_layer_sizes=10, max_iter=1000, tol=0.001,random_state=0)\n",
    "new_mlp.fit(X_train, y_train)\n",
    "new_score = new_mlp.score(X_test, y_test)\n",
    "print(f'Modified neural network score: {new_score}')"
   ]
  },
  {
   "cell_type": "markdown",
   "id": "6c32ddb8",
   "metadata": {},
   "source": [
    "Neural network model gives us score of 1.0 as same as logistic regression model and support vector machine model."
   ]
  },
  {
   "cell_type": "markdown",
   "id": "b275316a",
   "metadata": {},
   "source": [
    "# Part 6: K-Nearest Neighbors"
   ]
  },
  {
   "cell_type": "code",
   "execution_count": 31,
   "id": "ceba69e4",
   "metadata": {},
   "outputs": [
    {
     "name": "stdout",
     "output_type": "stream",
     "text": [
      "predicted class = setosa and confidence = 100.00%\n",
      "predicted class = versicolor and confidence = 100.00%\n",
      "predicted class = virginica and confidence = 100.00%\n",
      "Accuracy of k-Neighbors on test set: 1.0\n"
     ]
    }
   ],
   "source": [
    "knn = KNeighborsClassifier()\n",
    "knn.fit(X_train, y_train)\n",
    "# ii. For a sample datapoint, predict the probabilities for each possible class\n",
    "y_prediction_knn = knn.predict(X_test)\n",
    "y_prediction_prob_knn = knn.predict_proba(X_test)\n",
    "for class_name, proba in zip(classes, y_prediction_prob_knn):\n",
    "    index = np.argmax(proba)\n",
    "    print(f'predicted class = {class_name} and confidence = {proba[index]:.2%}')\n",
    "# iii. Report on the score for kNN, what does the score measure?\n",
    "score = knn.score(X_test, y_test)\n",
    "print('Accuracy of k-Neighbors on test set: {}'.format(score))"
   ]
  },
  {
   "cell_type": "markdown",
   "id": "a9d049aa",
   "metadata": {},
   "source": [
    "K-Nearest Neighbors model gives us score of 1.0 as same as logistic regression model and support vector machine model.The K-Nearest Neighbors model will estimate the likelihood that a data point will become a member of one group or another based on what group the data points nearest to it belong to."
   ]
  },
  {
   "cell_type": "markdown",
   "id": "bfd0778c",
   "metadata": {},
   "source": [
    "# Part 7: Conclusions and takeaways\n"
   ]
  },
  {
   "cell_type": "markdown",
   "id": "c0eae2a7",
   "metadata": {},
   "source": [
    " According to the results for each model, they all get the socore of 1.0, which means all models are able to define the point correctly. That's really amazing and i did not expect it.In addition, K-Nearest Neighbors model predicts 100% correctly to each class which means it will be the best performed model on iris dataset in my experiment.I do feel surprised that these four models all perform well on iris dataset. However, i think need to more iterations for each model to decide what is best performed model."
   ]
  },
  {
   "cell_type": "code",
   "execution_count": null,
   "id": "4dd28546",
   "metadata": {},
   "outputs": [],
   "source": []
  }
 ],
 "metadata": {
  "kernelspec": {
   "display_name": "Python 3 (ipykernel)",
   "language": "python",
   "name": "python3"
  },
  "language_info": {
   "codemirror_mode": {
    "name": "ipython",
    "version": 3
   },
   "file_extension": ".py",
   "mimetype": "text/x-python",
   "name": "python",
   "nbconvert_exporter": "python",
   "pygments_lexer": "ipython3",
   "version": "3.10.3"
  }
 },
 "nbformat": 4,
 "nbformat_minor": 5
}
